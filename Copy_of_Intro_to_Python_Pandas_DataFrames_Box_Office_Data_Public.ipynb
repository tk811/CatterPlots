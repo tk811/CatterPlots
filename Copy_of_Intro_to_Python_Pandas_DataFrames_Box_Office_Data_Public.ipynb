{
  "nbformat": 4,
  "nbformat_minor": 0,
  "metadata": {
    "colab": {
      "name": "Copy of Intro to Python: Pandas DataFrames - Box Office Data - Public.ipynb",
      "provenance": [],
      "include_colab_link": true
    },
    "kernelspec": {
      "name": "python3",
      "display_name": "Python 3"
    }
  },
  "cells": [
    {
      "cell_type": "markdown",
      "metadata": {
        "id": "view-in-github",
        "colab_type": "text"
      },
      "source": [
        "<a href=\"https://colab.research.google.com/github/tk811/CatterPlots/blob/master/Copy_of_Intro_to_Python_Pandas_DataFrames_Box_Office_Data_Public.ipynb\" target=\"_parent\"><img src=\"https://colab.research.google.com/assets/colab-badge.svg\" alt=\"Open In Colab\"/></a>"
      ]
    },
    {
      "cell_type": "markdown",
      "metadata": {
        "id": "dQde2o3Ftx_v",
        "colab_type": "text"
      },
      "source": [
        "# Intro to Python: Pandas DataFrames\n",
        "## Box Office Data\n",
        "\n",
        "Today, we will be exploring fundamental concepts of pandas data manipulation to prepare a data set for modeling. \n",
        "\n",
        "__Data set:__ Information from IMDB about movies\n",
        "\n",
        "__Our Goal:__ Process and clean the data to prepare it for modeling to predict the gross profit of a movie.\n",
        "\n",
        "You will need to add some code to complete this notebook.  Follow along with the instructor to find what code to add.  You will add that where the code says \"\\*\\*\\* ADD CODE HERE\\*\\*\\*\"\n",
        "\n",
        "Have fun and good luck coding!"
      ]
    },
    {
      "cell_type": "markdown",
      "metadata": {
        "id": "4VSyLiB2jkXy",
        "colab_type": "text"
      },
      "source": [
        "## Importing the packages that we'll need\n",
        "\n",
        "One of the things that makes Python **great** for data science is all of the different libraries that exist so we don't have to code them from scratch. Tonight we'll be taking advantage of:\n",
        "- [Numpy](https://numpy.org/) for scientific and mathematical computing\n",
        "- [Pandas](https://pandas.pydata.org/) for data wrangling and analysis"
      ]
    },
    {
      "cell_type": "code",
      "metadata": {
        "id": "XkkokDMOt221",
        "colab_type": "code",
        "colab": {}
      },
      "source": [
        "# data analysis packages\n",
        "import numpy as np\n",
        "import pandas as pd\n",
        "\n",
        "# default settings for pandas\n",
        "pd.set_option('mode.chained_assignment', None)\n",
        "pd.set_option('display.float_format', '{:,.2f}'.format)"
      ],
      "execution_count": 0,
      "outputs": []
    },
    {
      "cell_type": "markdown",
      "metadata": {
        "id": "hL8FF6AExTtt",
        "colab_type": "text"
      },
      "source": [
        "## Import the data\n",
        "Pandas can work with information from all kinds of data sources. Below, we'll import the data we need from a GitHub URL and read it into a Pandas Dataframe using the Pandas [`read_csv`](https://pandas.pydata.org/pandas-docs/stable/reference/api/pandas.read_csv.html) function."
      ]
    },
    {
      "cell_type": "code",
      "metadata": {
        "id": "KQusb-oRuC8I",
        "colab_type": "code",
        "colab": {}
      },
      "source": [
        "# import data from github\n",
        "data = pd.read_csv(\"https://github.com/autumntoney/predict_the_box_office/raw/master/movie_metadata.csv\")"
      ],
      "execution_count": 0,
      "outputs": []
    },
    {
      "cell_type": "markdown",
      "metadata": {
        "id": "Bhy-1w_XxWsg",
        "colab_type": "text"
      },
      "source": [
        "## Understand the data"
      ]
    },
    {
      "cell_type": "code",
      "metadata": {
        "id": "UheSZMCouEc4",
        "colab_type": "code",
        "colab": {}
      },
      "source": [
        "# Check out the first lines of the data set\n",
        "***ADD CODE HERE***"
      ],
      "execution_count": 0,
      "outputs": []
    },
    {
      "cell_type": "code",
      "metadata": {
        "id": "JyJPSs4HEWnk",
        "colab_type": "code",
        "colab": {}
      },
      "source": [
        "# Checking the size of our data (rows, columns)\n",
        "data.shape"
      ],
      "execution_count": 0,
      "outputs": []
    },
    {
      "cell_type": "code",
      "metadata": {
        "id": "hm_MKY-RFKKw",
        "colab_type": "code",
        "colab": {}
      },
      "source": [
        "# Get a concise summary of the dataset\n",
        "data.info()"
      ],
      "execution_count": 0,
      "outputs": []
    },
    {
      "cell_type": "code",
      "metadata": {
        "id": "jBhGCEOqE_sJ",
        "colab_type": "code",
        "colab": {}
      },
      "source": [
        "# Understand the basic statistical details of the data set\n",
        "***ADD CODE HERE***"
      ],
      "execution_count": 0,
      "outputs": []
    },
    {
      "cell_type": "markdown",
      "metadata": {
        "id": "FdMRriQNX7pd",
        "colab_type": "text"
      },
      "source": [
        "__Missing Values:__ You can identify columns with missing values by looking at the `non-null` items in the `.info()` call, and the difference in number of data points in the `count` row of the `.describe()` function. For example, the `num_critic_for_reviews` column has a lower `count` than `duration`, so has missing values.\n",
        "\n",
        "__Outliers:__ You can also identify if there are outliers in the data set by looking at the `.describe()` function's spread of data in comparison to the `min` and `max` values.  For example, the `duration` column's `max` value is 511, which would correspond to an 8.5 hour film. You might want to go back and check that the values for that film are valid, and correct or drop the values that aren't.  \n",
        "\n",
        "NB: We don't have time to investigate outliers in this workshop."
      ]
    },
    {
      "cell_type": "markdown",
      "metadata": {
        "id": "mI9J_ZlDHezH",
        "colab_type": "text"
      },
      "source": [
        "## Clean the Data\n",
        "\n",
        "Now that we understand the basics of what's in the data, we now need to clean the data before it's ready for modeling.  Things we'll cover:\n",
        "- Duplicate data\n",
        "- Missing data\n",
        "- Manipulating data\n",
        "\n",
        "NB: Most models can only process numerical data, so we will focus our cleaning on those columns."
      ]
    },
    {
      "cell_type": "code",
      "metadata": {
        "id": "A8jknTusBVcY",
        "colab_type": "code",
        "colab": {}
      },
      "source": [
        "# Rename columns to include units\n",
        "data.rename(columns={'duration': 'duration_mins',\n",
        "                    'budget': 'budget_usd',\n",
        "                    'gross': 'gross_usd'}, inplace=True)\n",
        "data.head(1)"
      ],
      "execution_count": 0,
      "outputs": []
    },
    {
      "cell_type": "markdown",
      "metadata": {
        "id": "E-f4NsOhVdrp",
        "colab_type": "text"
      },
      "source": [
        "### Removing duplicates\n",
        "Since our data includes that of movies, we will want to check for duplicated `movie_title`, but since there could be movie remakes in here as well, we should also check the `title_year` using the Pandas [`duplicated`](https://pandas.pydata.org/pandas-docs/stable/reference/api/pandas.DataFrame.duplicated.html) function."
      ]
    },
    {
      "cell_type": "code",
      "metadata": {
        "id": "I17BbgjUHrBR",
        "colab_type": "code",
        "colab": {}
      },
      "source": [
        "# Checking to see what movies are duplicates.  \n",
        "# Sorting by movie title to see duplicates\n",
        "data[data.duplicated(subset=['***ADD CODE HERE***'], keep=False)].sort_values('movie_title').head()"
      ],
      "execution_count": 0,
      "outputs": []
    },
    {
      "cell_type": "markdown",
      "metadata": {
        "id": "o6vGBj75XyMw",
        "colab_type": "text"
      },
      "source": [
        "We do have duplicated movies in our data.  We need to drop those duplicates to remove them from our data set using the Pandas [`drop_duplicates`](https://pandas.pydata.org/pandas-docs/version/0.17/generated/pandas.DataFrame.drop_duplicates.html) function."
      ]
    },
    {
      "cell_type": "code",
      "metadata": {
        "id": "E6Zhd1QKmVik",
        "colab_type": "code",
        "colab": {}
      },
      "source": [
        "# Drop all duplicate movie titles that were released in the same year\n",
        "data = data.drop_duplicates(subset=['movie_title', 'title_year'], keep='first').copy()"
      ],
      "execution_count": 0,
      "outputs": []
    },
    {
      "cell_type": "markdown",
      "metadata": {
        "id": "OnnQZqXrZDMy",
        "colab_type": "text"
      },
      "source": [
        "### Missing values\n",
        "Now that we've cleaned out the duplicates, let's take a look at the missing values."
      ]
    },
    {
      "cell_type": "code",
      "metadata": {
        "id": "paqsU9MXGE54",
        "colab_type": "code",
        "colab": {}
      },
      "source": [
        "# Show how many values are missing from each column\n",
        "***ADD CODE HERE***"
      ],
      "execution_count": 0,
      "outputs": []
    },
    {
      "cell_type": "markdown",
      "metadata": {
        "id": "0A06bffezm_2",
        "colab_type": "text"
      },
      "source": [
        "There are a good number of films missing the `aspect_ratio`, and using our knowledge of movies, it is unlikely that the aspect ratio is important in predicting the gross revenue of the film.  Let's drop the whole column using the Pandas [`drop`](https://pandas.pydata.org/pandas-docs/stable/reference/api/pandas.DataFrame.drop.html) function."
      ]
    },
    {
      "cell_type": "code",
      "metadata": {
        "id": "cq0B_sZlz6Uu",
        "colab_type": "code",
        "colab": {}
      },
      "source": [
        "# Drop the aspect ratio column,  axis=1 means drop the column\n",
        "data.drop('aspect_ratio', axis=1, inplace=True)"
      ],
      "execution_count": 0,
      "outputs": []
    },
    {
      "cell_type": "markdown",
      "metadata": {
        "id": "9Okofvg1U4PZ",
        "colab_type": "text"
      },
      "source": [
        "Now, since we're wanting to eventually predict the `gross` revenue of the movie, let's take a look at the missing values of `gross`"
      ]
    },
    {
      "cell_type": "code",
      "metadata": {
        "id": "N66-7bWQO5KA",
        "colab_type": "code",
        "colab": {}
      },
      "source": [
        "# What percent of the gross values are missing?\n",
        "print(len(data[data['gross_usd'].isna()])/len(data))\n",
        "# Or, more simply\n",
        "data['gross_usd'].***ADD CODE HERE***"
      ],
      "execution_count": 0,
      "outputs": []
    },
    {
      "cell_type": "code",
      "metadata": {
        "id": "pIcHoYEMC7GN",
        "colab_type": "code",
        "colab": {}
      },
      "source": [
        "# show what movies are missing the gross values\n",
        "data[data['gross_usd'].isna()].head()"
      ],
      "execution_count": 0,
      "outputs": []
    },
    {
      "cell_type": "markdown",
      "metadata": {
        "id": "Sv5laWwoatDr",
        "colab_type": "text"
      },
      "source": [
        "Since we eventually want to predict the gross revenue of a movie, having a null value for gross revenue will not help us train our model, so we should drop them using the Pandas [`dropna`](https://pandas.pydata.org/pandas-docs/stable/reference/api/pandas.DataFrame.dropna.html) function."
      ]
    },
    {
      "cell_type": "code",
      "metadata": {
        "id": "SXVxzxnYOl8q",
        "colab_type": "code",
        "colab": {}
      },
      "source": [
        "# Drop all null values of gross\n",
        "# You might be interested in how the movie performed\n",
        "# so don't want to impute these values (skew the analysis)\n",
        "data.dropna(subset=['gross_usd'], how='all', inplace=True)\n",
        "# Check the size of the data after dropping null values\n",
        "data.shape"
      ],
      "execution_count": 0,
      "outputs": []
    },
    {
      "cell_type": "markdown",
      "metadata": {
        "id": "iK86bmq4c2vB",
        "colab_type": "text"
      },
      "source": [
        "Check out the highest-grossing movies by sorting the data."
      ]
    },
    {
      "cell_type": "code",
      "metadata": {
        "id": "ujzmxCnmEclb",
        "colab_type": "code",
        "colab": {}
      },
      "source": [
        "# Sort all of the values by gross\n",
        "data['gross_usd'].sort_values(ascending=False).head()"
      ],
      "execution_count": 0,
      "outputs": []
    },
    {
      "cell_type": "markdown",
      "metadata": {
        "id": "VoEEVWDBdO6b",
        "colab_type": "text"
      },
      "source": [
        "Knowing a bit about movies, it makes sense that the budget of a film might be important to predicting how much money the movie makes, so let's check out the missing budget values."
      ]
    },
    {
      "cell_type": "code",
      "metadata": {
        "id": "Xk_imERleGke",
        "colab_type": "code",
        "colab": {}
      },
      "source": [
        "# Identifying the percent of budget values that are missing\n",
        "***ADD CODE HERE***"
      ],
      "execution_count": 0,
      "outputs": []
    },
    {
      "cell_type": "markdown",
      "metadata": {
        "id": "yp_lHSFzf47g",
        "colab_type": "text"
      },
      "source": [
        "Since we have between 5-10% of budget values missing, we can impute (or fill in) the missing values without creating too much bias in the data. \n",
        "\n",
        "Using our knowledge of films, I know that film budgets in recent years has increased, so just imputing the mean or median budget for all missing values would not make much sense.  To get around this, we can find the median gross revenue for each year using the Pandas [`groupby`](https://pandas.pydata.org/pandas-docs/stable/reference/api/pandas.DataFrame.groupby.html) function, and then impute based on those values using the [`fillna`](https://pandas.pydata.org/pandas-docs/stable/reference/api/pandas.DataFrame.fillna.html) function."
      ]
    },
    {
      "cell_type": "code",
      "metadata": {
        "id": "mQB4aysxGd04",
        "colab_type": "code",
        "colab": {}
      },
      "source": [
        "# Drop movies where the year is missing\n",
        "data.dropna(subset=['title_year'], how='all', inplace=True)\n",
        "# Convert all years to integers\n",
        "data['title_year'] = data['title_year'].astype(int)"
      ],
      "execution_count": 0,
      "outputs": []
    },
    {
      "cell_type": "code",
      "metadata": {
        "id": "v2OUoFGFNljS",
        "colab_type": "code",
        "colab": {}
      },
      "source": [
        "# Calculate median budgets per year\n",
        "# Impute the median budgets per year for missing budget data\n",
        "data['budget_usd'] = data['budget_usd'].fillna(data.groupby('title_year')['budget_usd'].transform('median'))"
      ],
      "execution_count": 0,
      "outputs": []
    },
    {
      "cell_type": "code",
      "metadata": {
        "id": "US20xbtyJDwK",
        "colab_type": "code",
        "colab": {}
      },
      "source": [
        "# Re-check to see if there are still any missing budget values\n",
        "data['budget_usd'].isna().sum()"
      ],
      "execution_count": 0,
      "outputs": []
    },
    {
      "cell_type": "code",
      "metadata": {
        "id": "cnPs2z0tJS3W",
        "colab_type": "code",
        "colab": {}
      },
      "source": [
        "# What is the movie with missing budget still?\n",
        "data[data['budget_usd'].isna()].head()"
      ],
      "execution_count": 0,
      "outputs": []
    },
    {
      "cell_type": "markdown",
      "metadata": {
        "id": "RTpwgJ5_rUwB",
        "colab_type": "text"
      },
      "source": [
        "There are no other movies from the year 1942, so we cannot impute based on year.  Other options:\n",
        "- Impute based on the overall median budget\n",
        "- Drop the film from the data\n",
        "- Impute based on other data\n",
        "\n",
        "Since it's only one film, and for the sake of time, we will drop the film from the data set. "
      ]
    },
    {
      "cell_type": "code",
      "metadata": {
        "id": "__jRz3D1uGCz",
        "colab_type": "code",
        "colab": {}
      },
      "source": [
        "data.dropna(subset=['budget_usd'], axis=0, inplace=True)"
      ],
      "execution_count": 0,
      "outputs": []
    },
    {
      "cell_type": "markdown",
      "metadata": {
        "id": "GJMauNTJuFWu",
        "colab_type": "text"
      },
      "source": [
        "Now, let's take a look at the different countries of origin in the data.  There are likely differences in the gross revenue of movies from different countries."
      ]
    },
    {
      "cell_type": "code",
      "metadata": {
        "id": "EeO2rgWQE1Dd",
        "colab_type": "code",
        "colab": {}
      },
      "source": [
        "# Identify all of the unique countries\n",
        "data['country'].unique()"
      ],
      "execution_count": 0,
      "outputs": []
    },
    {
      "cell_type": "code",
      "metadata": {
        "id": "l-FuYixaFf1n",
        "colab_type": "code",
        "colab": {}
      },
      "source": [
        "# Find how many movies are in each country\n",
        "counts = data['country'].value_counts()\n",
        "counts"
      ],
      "execution_count": 0,
      "outputs": []
    },
    {
      "cell_type": "markdown",
      "metadata": {
        "id": "gDttBjhgwdA0",
        "colab_type": "text"
      },
      "source": [
        "Since most movies are from the US, UK, and France let's just focus on movies from those three countries, so the other countries don't skew our predictions."
      ]
    },
    {
      "cell_type": "code",
      "metadata": {
        "id": "p1TMNc9vFpHm",
        "colab_type": "code",
        "colab": {}
      },
      "source": [
        "# Select just the countries with the 3 largest number of films\n",
        "counts.nlargest(3)"
      ],
      "execution_count": 0,
      "outputs": []
    },
    {
      "cell_type": "code",
      "metadata": {
        "id": "HMiw_ojXF4s3",
        "colab_type": "code",
        "colab": {}
      },
      "source": [
        "# Select just the country names of the three largest\n",
        "counts.***ADD CODE HERE***"
      ],
      "execution_count": 0,
      "outputs": []
    },
    {
      "cell_type": "code",
      "metadata": {
        "id": "ZXf9wJbzPFgy",
        "colab_type": "code",
        "colab": {}
      },
      "source": [
        "# Select the data from only the top 3 countries\n",
        "data = data[data['country'].isin(counts.nlargest(3).index)].copy()"
      ],
      "execution_count": 0,
      "outputs": []
    },
    {
      "cell_type": "markdown",
      "metadata": {
        "id": "xbAd0Khi0aFv",
        "colab_type": "text"
      },
      "source": [
        "Now, let's take a look at how our cleaning is going."
      ]
    },
    {
      "cell_type": "code",
      "metadata": {
        "id": "DAEmhrlhyucf",
        "colab_type": "code",
        "colab": {}
      },
      "source": [
        "# Check again to see how many missing values we have\n",
        "data.isna().sum()"
      ],
      "execution_count": 0,
      "outputs": []
    },
    {
      "cell_type": "markdown",
      "metadata": {
        "id": "dfxawgh91C-z",
        "colab_type": "text"
      },
      "source": [
        "We have very few missing values remaining -- if we had more time, we could address each individually, but we don't.  Let's drop all remaining rows that have missing values."
      ]
    },
    {
      "cell_type": "code",
      "metadata": {
        "id": "npB15jB01bAS",
        "colab_type": "code",
        "colab": {}
      },
      "source": [
        "print(data.shape)\n",
        "# Dropping all remaining rows that have null values\n",
        "data.dropna(axis=0, inplace=True)\n",
        "print(data.shape)"
      ],
      "execution_count": 0,
      "outputs": []
    },
    {
      "cell_type": "markdown",
      "metadata": {
        "id": "ucVb2yJLDarK",
        "colab_type": "text"
      },
      "source": [
        "## Feature Engineering\n",
        "Sometimes you might want to use your knowledge of the subject to create new features to help you make predictions\n",
        "\n",
        "Here, I think that the lead actor might have an influence on the gross revenue of a film, so let's check those out to see if we can turn these into a numerical feature for modeling."
      ]
    },
    {
      "cell_type": "code",
      "metadata": {
        "id": "bpGuP8gDIfmE",
        "colab_type": "code",
        "colab": {}
      },
      "source": [
        "# Check out the actors with the most movies in the set\n",
        "data['actor_1_name'].value_counts().head()"
      ],
      "execution_count": 0,
      "outputs": []
    },
    {
      "cell_type": "markdown",
      "metadata": {
        "id": "gl2sxdVTWH6D",
        "colab_type": "text"
      },
      "source": [
        "The actors with the most lead roles have 20+ lead roles in this data set.  Let's make a feature that includes whether or not the lead actor has starred in a lot of movies (20+).\n",
        "\n",
        "For this, we will use a list comprehension, which is a concise way to create a list.  The basic syntax for this is:\n",
        "- `[expression if conditional for item in list]`\n",
        "  - where the `expression` is based on an item in the list, \n",
        "  - `if conditional` filters down the list\n",
        "  - `for item in list` breaks down a list into individual items. \n",
        " "
      ]
    },
    {
      "cell_type": "code",
      "metadata": {
        "id": "1qVaZorxWCWZ",
        "colab_type": "code",
        "colab": {}
      },
      "source": [
        "# Identify all movie counts, select all star actors\n",
        "lead_movie_counts = data['actor_1_name'].value_counts()\n",
        "star_actors = lead_movie_counts[lead_movie_counts>=20].index\n",
        "# Set `lead_star` = 1 if actor is in star_actors, otherwise 0\n",
        "data['lead_star'] = [1 if x in star_actors else 0 for x in data['actor_1_name']]\n",
        "data.head()"
      ],
      "execution_count": 0,
      "outputs": []
    },
    {
      "cell_type": "markdown",
      "metadata": {
        "id": "1VZsWqF92fZ1",
        "colab_type": "text"
      },
      "source": [
        "\n",
        "Maybe the era of the film might have something to do with the gross revenue.  The [history of film](http://www.historyoffilm.net/movie-eras/history-of-cinema/) documents the movie eras we can use to create our new feature."
      ]
    },
    {
      "cell_type": "code",
      "metadata": {
        "id": "Fup0Nr9vReXL",
        "colab_type": "code",
        "colab": {}
      },
      "source": [
        "# Identify the era of the film\n",
        "era_bins = [0, 1910, 1926, 1940, 1954, 1976, 2000, 2100]\n",
        "era_labels = ['pioneer', 'silent', 'talkies', 'golden_era',\n",
        "             'changes', 'dawn_modern_film', 'modern_film']\n",
        "data['era'] = pd.cut(data['title_year'], bins=era_bins, labels=era_labels)\n",
        "data['era'].value_counts()\n"
      ],
      "execution_count": 0,
      "outputs": []
    },
    {
      "cell_type": "markdown",
      "metadata": {
        "id": "IMd2zxyC4y8s",
        "colab_type": "text"
      },
      "source": [
        "Perhaps the `content_rating` will have an impact on the gross revenue of the movie.  We already have this data, but our models will want the information in numerical form, not in words.  \n",
        "\n",
        "To do this, we need to encode the ratings as numbers.  We can use the pandas [`get_dummies`](https://pandas.pydata.org/pandas-docs/stable/reference/api/pandas.get_dummies.html) function."
      ]
    },
    {
      "cell_type": "code",
      "metadata": {
        "id": "fwVDDbpA6dfv",
        "colab_type": "code",
        "colab": {}
      },
      "source": [
        "# Encoding ratings as dummy variables\n",
        "content_ratings = ***ADD CODE HERE***(data['content_rating'])\n",
        "content_ratings.head(2)"
      ],
      "execution_count": 0,
      "outputs": []
    },
    {
      "cell_type": "code",
      "metadata": {
        "id": "LI8MokNW63ql",
        "colab_type": "code",
        "colab": {}
      },
      "source": [
        "# Merge the encoded data back on to the original data\n",
        "data = data.join(content_ratings)\n",
        "data.head(3)"
      ],
      "execution_count": 0,
      "outputs": []
    },
    {
      "cell_type": "markdown",
      "metadata": {
        "id": "wZ9Ke7i58MMR",
        "colab_type": "text"
      },
      "source": [
        "Now, we could do a similar type of encoding for any of the other categorical variables, but encoding all of the actor names would create too many columns.  We'll stick with the numerical data for now and select them using the Pandas [`select_dtypes`](https://pandas.pydata.org/pandas-docs/stable/reference/api/pandas.DataFrame.select_dtypes.html) function."
      ]
    },
    {
      "cell_type": "code",
      "metadata": {
        "colab_type": "code",
        "id": "KoCvyKTxIayb",
        "colab": {}
      },
      "source": [
        "# Select columns by data type - number\n",
        "numerical_data = data.***ADD CODE HERE***(include='number')\n",
        "numerical_data.head()"
      ],
      "execution_count": 0,
      "outputs": []
    },
    {
      "cell_type": "markdown",
      "metadata": {
        "id": "0WqRnPfz82dp",
        "colab_type": "text"
      },
      "source": [
        "Now our `numerical_data` DataFrame is ready for modeling!\n",
        "\n",
        "# Take Home Challenge\n",
        "- Go back and investigate outliers and clean or drop them\n",
        "- Analyze your clean data (see Thinkful's Art of Visualization webinars for additional support)\n",
        "- Continue to engineer features based on what you know about the subject\n",
        "- Try out different models for predicting the gross revenue of a movie (see Thinkful's Intro to Predictive Modeling webinars for additional support)\n",
        "- Go back and impute some of the missing data that we dropped"
      ]
    },
    {
      "cell_type": "code",
      "metadata": {
        "id": "zCBvvSIOh98n",
        "colab_type": "code",
        "colab": {}
      },
      "source": [
        ""
      ],
      "execution_count": 0,
      "outputs": []
    }
  ]
}